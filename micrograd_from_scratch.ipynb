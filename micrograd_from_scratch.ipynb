{
 "cells": [
  {
   "cell_type": "code",
   "execution_count": 2,
   "metadata": {},
   "outputs": [],
   "source": [
    "import math\n",
    "import numpy as np\n",
    "import matplotlib.pyplot as plt"
   ]
  },
  {
   "cell_type": "code",
   "execution_count": 5,
   "metadata": {},
   "outputs": [],
   "source": [
    "def f(x):\n",
    "    return x **2 + 3\n",
    "x = np.arange(-2,4,.1)"
   ]
  },
  {
   "cell_type": "code",
   "execution_count": 6,
   "metadata": {},
   "outputs": [
    {
     "data": {
      "text/plain": [
       "[<matplotlib.lines.Line2D at 0x7f85a3bb7e20>]"
      ]
     },
     "execution_count": 6,
     "metadata": {},
     "output_type": "execute_result"
    },
    {
     "data": {
      "image/png": "[encoded data removed]",
      "text/plain": [
       "<Figure size 640x480 with 1 Axes>"
      ]
     },
     "metadata": {},
     "output_type": "display_data"
    }
   ],
   "source": [
    "plt.plot(f(x))"
   ]
  },
  {
   "cell_type": "code",
   "execution_count": 11,
   "metadata": {},
   "outputs": [
    {
     "name": "stdout",
     "output_type": "stream",
     "text": [
      "4\n",
      "4.002\n"
     ]
    }
   ],
   "source": [
    "a = 2\n",
    "b = -3\n",
    "c = 10\n",
    "\n",
    "f = a*b+c\n",
    "h = 0.001\n",
    "b += h\n",
    "f2 = a*b+c\n",
    "\n",
    "print(f)\n",
    "print(f2)"
   ]
  },
  {
   "cell_type": "code",
   "execution_count": 24,
   "metadata": {},
   "outputs": [],
   "source": [
    "from graphviz import Digraph\n",
    "\n",
    "def trace(root):\n",
    "    nodes, edges = set(), set()\n",
    "    def build(v):\n",
    "        if v not in nodes:\n",
    "            nodes.add(v)\n",
    "            for child in v._children:\n",
    "                edges.add((child, v))\n",
    "                build(child)\n",
    "    build(root)\n",
    "    return nodes, edges\n",
    "\n",
    "def draw_dot(root):\n",
    "    dot = Digraph(format='svg', graph_attr={'rankdir':'LR'})\n",
    "\n",
    "    nodes, edges = trace(root)\n",
    "    for n in nodes:\n",
    "        uid = str(id(n))\n",
    "        dot.node(name = uid, label=f'{n.value}', shape='record')\n",
    "        if n._op:\n",
    "            dot.node(name=uid + n._op, label=n._op)\n",
    "            dot.edge(uid + n._op, uid)\n",
    "    \n",
    "    return dot"
   ]
  },
  {
   "cell_type": "code",
   "execution_count": 22,
   "metadata": {},
   "outputs": [
    {
     "data": {
      "text/plain": [
       "Node(value = 9.0)"
      ]
     },
     "execution_count": 22,
     "metadata": {},
     "output_type": "execute_result"
    }
   ],
   "source": [
    "class Node:\n",
    "    def __init__(self, value, _children=set(), _op=[]):\n",
    "        self.value = value\n",
    "        self._children = _children\n",
    "        self._op = _op\n",
    "\n",
    "    def __repr__(self) -> str:\n",
    "        return f\"Node(value = {self.value})\"\n",
    "    \n",
    "    def __add__(self, other):\n",
    "        return Node(self.value + other.value, (self, other), '+')\n",
    "    \n",
    "    def __mul__(self, other):\n",
    "        return Node(self.value + other.value, (self, other), '*')\n",
    "    \n",
    "a = Node(2.0)\n",
    "b = Node(-3.0)\n",
    "c = Node(10)\n",
    "d = a*b+c\n",
    "d"
   ]
  },
  {
   "cell_type": "code",
   "execution_count": 25,
   "metadata": {},
   "outputs": [
    {
     "ename": "AttributeError",
     "evalue": "'Node' object has no attribute '_prev'",
     "output_type": "error",
     "traceback": [
      "\u001b[0;31m---------------------------------------------------------------------------\u001b[0m",
      "\u001b[0;31mAttributeError\u001b[0m                            Traceback (most recent call last)",
      "Cell \u001b[0;32mIn[25], line 1\u001b[0m\n\u001b[0;32m----> 1\u001b[0m draw_dot(d)\n",
      "Cell \u001b[0;32mIn[24], line 17\u001b[0m, in \u001b[0;36mdraw_dot\u001b[0;34m(root)\u001b[0m\n\u001b[1;32m     14\u001b[0m \u001b[39mdef\u001b[39;00m \u001b[39mdraw_dot\u001b[39m(root):\n\u001b[1;32m     15\u001b[0m     dot \u001b[39m=\u001b[39m Digraph(\u001b[39mformat\u001b[39m\u001b[39m=\u001b[39m\u001b[39m'\u001b[39m\u001b[39msvg\u001b[39m\u001b[39m'\u001b[39m, graph_attr\u001b[39m=\u001b[39m{\u001b[39m'\u001b[39m\u001b[39mrankdir\u001b[39m\u001b[39m'\u001b[39m:\u001b[39m'\u001b[39m\u001b[39mLR\u001b[39m\u001b[39m'\u001b[39m})\n\u001b[0;32m---> 17\u001b[0m     nodes, edges \u001b[39m=\u001b[39m trace(root)\n\u001b[1;32m     18\u001b[0m     \u001b[39mfor\u001b[39;00m n \u001b[39min\u001b[39;00m nodes:\n\u001b[1;32m     19\u001b[0m         uid \u001b[39m=\u001b[39m \u001b[39mstr\u001b[39m(\u001b[39mid\u001b[39m(n))\n",
      "Cell \u001b[0;32mIn[24], line 11\u001b[0m, in \u001b[0;36mtrace\u001b[0;34m(root)\u001b[0m\n\u001b[1;32m      9\u001b[0m             edges\u001b[39m.\u001b[39madd((child, v))\n\u001b[1;32m     10\u001b[0m             build(child)\n\u001b[0;32m---> 11\u001b[0m build(root)\n\u001b[1;32m     12\u001b[0m \u001b[39mreturn\u001b[39;00m nodes, edges\n",
      "Cell \u001b[0;32mIn[24], line 8\u001b[0m, in \u001b[0;36mtrace.<locals>.build\u001b[0;34m(v)\u001b[0m\n\u001b[1;32m      6\u001b[0m \u001b[39mif\u001b[39;00m v \u001b[39mnot\u001b[39;00m \u001b[39min\u001b[39;00m nodes:\n\u001b[1;32m      7\u001b[0m     nodes\u001b[39m.\u001b[39madd(v)\n\u001b[0;32m----> 8\u001b[0m     \u001b[39mfor\u001b[39;00m child \u001b[39min\u001b[39;00m v\u001b[39m.\u001b[39;49m_prev:\n\u001b[1;32m      9\u001b[0m         edges\u001b[39m.\u001b[39madd((child, v))\n\u001b[1;32m     10\u001b[0m         build(child)\n",
      "\u001b[0;31mAttributeError\u001b[0m: 'Node' object has no attribute '_prev'"
     ]
    }
   ],
   "source": [
    "draw_dot(d)"
   ]
  },
  {
   "cell_type": "code",
   "execution_count": null,
   "metadata": {},
   "outputs": [],
   "source": []
  }
 ],
 "metadata": {
  "kernelspec": {
   "display_name": "Python 3",
   "language": "python",
   "name": "python3"
  },
  "language_info": {
   "codemirror_mode": {
    "name": "ipython",
    "version": 3
   },
   "file_extension": ".py",
   "mimetype": "text/x-python",
   "name": "python",
   "nbconvert_exporter": "python",
   "pygments_lexer": "ipython3",
   "version": "3.8.10"
  },
  "orig_nbformat": 4
 },
 "nbformat": 4,
 "nbformat_minor": 2
}
