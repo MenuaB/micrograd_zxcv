{
 "cells": [
  {
   "cell_type": "code",
   "execution_count": 9,
   "metadata": {},
   "outputs": [],
   "source": [
    "import math\n",
    "import numpy as np\n",
    "import matplotlib.pyplot as plt"
   ]
  },
  {
   "cell_type": "code",
   "execution_count": 10,
   "metadata": {},
   "outputs": [],
   "source": [
    "def f(x):\n",
    "    return x **2 + 3\n",
    "x = np.arange(-2,4,.1)"
   ]
  },
  {
   "cell_type": "code",
   "execution_count": 11,
   "metadata": {},
   "outputs": [
    {
     "data": {
      "text/plain": [
       "[<matplotlib.lines.Line2D at 0x7ff56fab9bb0>]"
      ]
     },
     "execution_count": 11,
     "metadata": {},
     "output_type": "execute_result"
    },
    {
     "data": {
      "image/png": "[encoded data removed]",
      "text/plain": [
       "<Figure size 640x480 with 1 Axes>"
      ]
     },
     "metadata": {},
     "output_type": "display_data"
    }
   ],
   "source": [
    "plt.plot(f(x))"
   ]
  },
  {
   "cell_type": "code",
   "execution_count": 12,
   "metadata": {},
   "outputs": [
    {
     "name": "stdout",
     "output_type": "stream",
     "text": [
      "4\n",
      "4.002\n"
     ]
    }
   ],
   "source": [
    "a = 2\n",
    "b = -3\n",
    "c = 10\n",
    "\n",
    "f = a*b+c\n",
    "h = 0.001\n",
    "b += h\n",
    "f2 = a*b+c\n",
    "\n",
    "print(f)\n",
    "print(f2)"
   ]
  },
  {
   "cell_type": "code",
   "execution_count": 13,
   "metadata": {},
   "outputs": [],
   "source": [
    "from graphviz import Digraph\n",
    "\n",
    "def trace(root):\n",
    "    nodes, edges = set(), set()\n",
    "    def build(v):\n",
    "        if v not in nodes:\n",
    "            nodes.add(v)\n",
    "            for child in v._children:\n",
    "                edges.add((child, v))\n",
    "                build(child)\n",
    "    build(root)\n",
    "    return nodes, edges\n",
    "\n",
    "def draw_dot(root):\n",
    "    dot = Digraph(format='svg', graph_attr={'rankdir':'LR'})\n",
    "\n",
    "    nodes, edges = trace(root)\n",
    "    for n in nodes:\n",
    "        uid = str(id(n))\n",
    "        dot.node(name = uid, label=\"{%s|value %.4f| grad %.4f}\"%(n._label,n.value,n.grad), shape='record')\n",
    "        if n._op:\n",
    "            dot.node(name=uid + n._op, label=n._op)\n",
    "            dot.edge(uid + n._op, uid)\n",
    "    \n",
    "    for n1, n2 in edges:\n",
    "        dot.edge(str(id(n1)), str(id(n2))+n2._op)\n",
    "    return dot"
   ]
  },
  {
   "cell_type": "code",
   "execution_count": 69,
   "metadata": {},
   "outputs": [],
   "source": [
    "class Node:\n",
    "    def __init__(self, value, _children=set(), _op=[], grad=0,_label=\"NOLABEL\"):\n",
    "        self.value = value\n",
    "        self.grad = 0\n",
    "        self._backward= lambda : None\n",
    "        self._label = _label\n",
    "        self._children = _children\n",
    "        self._op = _op\n",
    "\n",
    "    def __repr__(self) -> str:\n",
    "        return f\"Node(value = {self.value})\"\n",
    "    \n",
    "    def __add__(self, other):\n",
    "        other = other if isinstance(other, Node) else Node(other)\n",
    "        out = Node(self.value + other.value, (self, other), '+')\n",
    "        def _backward():\n",
    "            self.grad += out.grad * 1.0\n",
    "            other.grad += out.grad * 1.0\n",
    "        out._backward = _backward\n",
    "        return out\n",
    "    \n",
    "    def __mul__(self, other):\n",
    "        other = other if isinstance(other, Node) else Node(other)\n",
    "        out = Node(self.value * other.value, (self, other), '*')\n",
    "        def _backward():\n",
    "            self.grad += out.grad * other.value\n",
    "            other.grad += out.grad * self.value\n",
    "        out._backward = _backward\n",
    "        return out\n",
    "\n",
    "    def __sub__(self, other):\n",
    "        other = other if isinstance(other, Node) else Node(other)\n",
    "        out = Node(self.value - other.value, (self, other), '-')\n",
    "        def _backward():\n",
    "            self.grad += out.grad * -1.0\n",
    "            other.grad += out.grad * 1.0\n",
    "        out._backward = _backward\n",
    "        return out \n",
    "    \n",
    "    def __truediv__(self, other):\n",
    "        other = other if isinstance(other, Node) else Node(other)\n",
    "        out = Node(self.value / other.value, (self, other), '/')\n",
    "        # def _backward():\n",
    "            # self.grad = out.grad * (other.value-)\n",
    "        return out \n",
    "    \n",
    "    def exp(self):\n",
    "        out = Node(math.exp(self.value))\n",
    "        def _backward():\n",
    "            self.grad += out.grad * out.value\n",
    "        out._backward = _backward\n",
    "        return out\n",
    "    \n",
    "    \n",
    "    def tanh(self):\n",
    "        x = self.value\n",
    "        out = Node((math.exp(x*2)-1)/(math.exp(x*2)+1), (self, ), 'tanh')\n",
    "        def _backward():\n",
    "            self.grad += out.grad * (1-out.value**2)\n",
    "        out._backward = _backward\n",
    "        return out\n",
    "    \n",
    "    @staticmethod\n",
    "    def get_topo(node):\n",
    "        topo = []\n",
    "        visited = set()\n",
    "        def build_topo(v):\n",
    "            if v not in visited:\n",
    "                visited.add(v)\n",
    "                for child in v._children:\n",
    "                    build_topo(child)\n",
    "                topo.append(v)\n",
    "            return topo\n",
    "        return build_topo(node)\n",
    "        \n",
    "    def backward(self):\n",
    "        topo_sort = self.get_topo(self)\n",
    "        self.grad = 1.0\n",
    "        for node in topo_sort[::-1]:\n",
    "            node._backward()\n",
    "    \n",
    "a = Node(2.0, _label='a')\n",
    "b = Node(-4.0, _label='b')\n",
    "c = Node(10, _label='c')\n",
    "# e = a-b; e._label='e'\n",
    "# d = e * c; d._label='d'\n",
    "# f = Node(-2.0, _label='f')\n",
    "# l = d.exp()\n",
    "# l"
   ]
  },
  {
   "cell_type": "code",
   "execution_count": 70,
   "metadata": {},
   "outputs": [],
   "source": [
    "b = a + a"
   ]
  },
  {
   "cell_type": "code",
   "execution_count": 63,
   "metadata": {},
   "outputs": [
    {
     "data": {
      "text/plain": [
       "0"
      ]
     },
     "execution_count": 63,
     "metadata": {},
     "output_type": "execute_result"
    }
   ],
   "source": [
    "a.grad"
   ]
  },
  {
   "cell_type": "code",
   "execution_count": 64,
   "metadata": {},
   "outputs": [],
   "source": [
    "b.backward()"
   ]
  },
  {
   "cell_type": "code",
   "execution_count": 65,
   "metadata": {},
   "outputs": [
    {
     "data": {
      "text/plain": [
       "2.718281828459045"
      ]
     },
     "execution_count": 65,
     "metadata": {},
     "output_type": "execute_result"
    }
   ],
   "source": [
    "a.grad"
   ]
  },
  {
   "cell_type": "code",
   "execution_count": 73,
   "metadata": {},
   "outputs": [
    {
     "data": {
      "image/svg+xml": [
       "<?xml version=\"1.0\" encoding=\"UTF-8\" standalone=\"no\"?>\n",
       "<!DOCTYPE svg PUBLIC \"-//W3C//DTD SVG 1.1//EN\"\n",
       " \"http://www.w3.org/Graphics/SVG/1.1/DTD/svg11.dtd\">\n",
       "<!-- Generated by graphviz version 2.43.0 (0)\n",
       " -->\n",
       "<!-- Title: %3 Pages: 1 -->\n",
       "<svg width=\"674pt\" height=\"45pt\"\n",
       " viewBox=\"0.00 0.00 674.00 45.00\" xmlns=\"http://www.w3.org/2000/svg\" xmlns:xlink=\"http://www.w3.org/1999/xlink\">\n",
       "<g id=\"graph0\" class=\"graph\" transform=\"scale(1 1) rotate(0) translate(4 41)\">\n",
       "<title>%3</title>\n",
       "<polygon fill=\"white\" stroke=\"transparent\" points=\"-4,4 -4,-41 670,-41 670,4 -4,4\"/>\n",
       "<!-- 140694820852736 -->\n",
       "<g id=\"node1\" class=\"node\">\n",
       "<title>140694820852736</title>\n",
       "<polygon fill=\"none\" stroke=\"black\" points=\"0,-0.5 0,-36.5 238,-36.5 238,-0.5 0,-0.5\"/>\n",
       "<text text-anchor=\"middle\" x=\"12.5\" y=\"-14.8\" font-family=\"Times,serif\" font-size=\"14.00\">a</text>\n",
       "<polyline fill=\"none\" stroke=\"black\" points=\"25,-0.5 25,-36.5 \"/>\n",
       "<text text-anchor=\"middle\" x=\"79.5\" y=\"-14.8\" font-family=\"Times,serif\" font-size=\"14.00\">value 2.0000</text>\n",
       "<polyline fill=\"none\" stroke=\"black\" points=\"134,-0.5 134,-36.5 \"/>\n",
       "<text text-anchor=\"middle\" x=\"186\" y=\"-14.8\" font-family=\"Times,serif\" font-size=\"14.00\">grad 1.0000</text>\n",
       "</g>\n",
       "<!-- 140694821160464+ -->\n",
       "<g id=\"node3\" class=\"node\">\n",
       "<title>140694821160464+</title>\n",
       "<ellipse fill=\"none\" stroke=\"black\" cx=\"301\" cy=\"-18.5\" rx=\"27\" ry=\"18\"/>\n",
       "<text text-anchor=\"middle\" x=\"301\" y=\"-14.8\" font-family=\"Times,serif\" font-size=\"14.00\">+</text>\n",
       "</g>\n",
       "<!-- 140694820852736&#45;&gt;140694821160464+ -->\n",
       "<g id=\"edge2\" class=\"edge\">\n",
       "<title>140694820852736&#45;&gt;140694821160464+</title>\n",
       "<path fill=\"none\" stroke=\"black\" d=\"M238.05,-18.5C247.17,-18.5 255.85,-18.5 263.68,-18.5\"/>\n",
       "<polygon fill=\"black\" stroke=\"black\" points=\"263.79,-22 273.79,-18.5 263.79,-15 263.79,-22\"/>\n",
       "</g>\n",
       "<!-- 140694821160464 -->\n",
       "<g id=\"node2\" class=\"node\">\n",
       "<title>140694821160464</title>\n",
       "<polygon fill=\"none\" stroke=\"black\" points=\"364,-0.5 364,-36.5 666,-36.5 666,-0.5 364,-0.5\"/>\n",
       "<text text-anchor=\"middle\" x=\"408.5\" y=\"-14.8\" font-family=\"Times,serif\" font-size=\"14.00\">NOLABEL</text>\n",
       "<polyline fill=\"none\" stroke=\"black\" points=\"453,-0.5 453,-36.5 \"/>\n",
       "<text text-anchor=\"middle\" x=\"507.5\" y=\"-14.8\" font-family=\"Times,serif\" font-size=\"14.00\">value 4.0000</text>\n",
       "<polyline fill=\"none\" stroke=\"black\" points=\"562,-0.5 562,-36.5 \"/>\n",
       "<text text-anchor=\"middle\" x=\"614\" y=\"-14.8\" font-family=\"Times,serif\" font-size=\"14.00\">grad 1.0000</text>\n",
       "</g>\n",
       "<!-- 140694821160464+&#45;&gt;140694821160464 -->\n",
       "<g id=\"edge1\" class=\"edge\">\n",
       "<title>140694821160464+&#45;&gt;140694821160464</title>\n",
       "<path fill=\"none\" stroke=\"black\" d=\"M328.42,-18.5C335.84,-18.5 344.47,-18.5 353.89,-18.5\"/>\n",
       "<polygon fill=\"black\" stroke=\"black\" points=\"353.97,-22 363.97,-18.5 353.97,-15 353.97,-22\"/>\n",
       "</g>\n",
       "</g>\n",
       "</svg>\n"
      ],
      "text/plain": [
       "<graphviz.graphs.Digraph at 0x7ff610d64460>"
      ]
     },
     "execution_count": 73,
     "metadata": {},
     "output_type": "execute_result"
    }
   ],
   "source": [
    "draw_dot(b)"
   ]
  },
  {
   "cell_type": "code",
   "execution_count": 72,
   "metadata": {},
   "outputs": [],
   "source": [
    "b.backward()"
   ]
  },
  {
   "cell_type": "code",
   "execution_count": 6,
   "metadata": {},
   "outputs": [
    {
     "ename": "AttributeError",
     "evalue": "'Node' object has no attribute 'exp'",
     "output_type": "error",
     "traceback": [
      "\u001b[0;31m---------------------------------------------------------------------------\u001b[0m",
      "\u001b[0;31mAttributeError\u001b[0m                            Traceback (most recent call last)",
      "Cell \u001b[0;32mIn[6], line 15\u001b[0m\n\u001b[1;32m     13\u001b[0m two \u001b[39m=\u001b[39m Node(\u001b[39m2.0\u001b[39m, _label\u001b[39m=\u001b[39m\u001b[39m'\u001b[39m\u001b[39m2\u001b[39m\u001b[39m'\u001b[39m)\n\u001b[1;32m     14\u001b[0m nn \u001b[39m=\u001b[39m  two\u001b[39m*\u001b[39mn\n\u001b[0;32m---> 15\u001b[0m o \u001b[39m=\u001b[39m ((nn)\u001b[39m.\u001b[39;49mexp() \u001b[39m-\u001b[39m \u001b[39m1\u001b[39m)\n\u001b[1;32m     16\u001b[0m o \u001b[39m=\u001b[39m o\u001b[39m.\u001b[39mdivide((nn)\u001b[39m.\u001b[39mexp() \u001b[39m+\u001b[39m \u001b[39m1\u001b[39m)\n\u001b[1;32m     17\u001b[0m o\n",
      "\u001b[0;31mAttributeError\u001b[0m: 'Node' object has no attribute 'exp'"
     ]
    }
   ],
   "source": [
    "x1 = Node(2.0, _label='x1')\n",
    "x2 = Node(0.0, _label='x2')\n",
    "\n",
    "w1 = Node(-3.0, _label='w1')\n",
    "w2 = Node(1.0, _label='w2')\n",
    "b = Node(6.8813735870195432, _label='b')\n",
    "\n",
    "x1w1 = x1*w1; x1w1._label='x1w1'\n",
    "x2w2 = x2*w2; x2w2._label='x2w2'\n",
    "x1w1x2w2 = x1w1 + x2w2 ; x1w1x2w2._label='x1w1x2w2'\n",
    "n = x1w1x2w2 + b; n._label ='n'\n",
    "# o = n.tanh(); o._label='o'\n",
    "two = Node(2.0, _label='2')\n",
    "nn =  two*n\n",
    "o = ((nn).exp() - 1)\n",
    "o = o.divide((nn).exp() + 1)\n",
    "o"
   ]
  },
  {
   "cell_type": "code",
   "execution_count": 112,
   "metadata": {},
   "outputs": [
    {
     "data": {
      "image/svg+xml": [
       "<?xml version=\"1.0\" encoding=\"UTF-8\" standalone=\"no\"?>\n",
       "<!DOCTYPE svg PUBLIC \"-//W3C//DTD SVG 1.1//EN\"\n",
       " \"http://www.w3.org/Graphics/SVG/1.1/DTD/svg11.dtd\">\n",
       "<!-- Generated by graphviz version 2.43.0 (0)\n",
       " -->\n",
       "<!-- Title: %3 Pages: 1 -->\n",
       "<svg width=\"1836pt\" height=\"210pt\"\n",
       " viewBox=\"0.00 0.00 1835.69 210.00\" xmlns=\"http://www.w3.org/2000/svg\" xmlns:xlink=\"http://www.w3.org/1999/xlink\">\n",
       "<g id=\"graph0\" class=\"graph\" transform=\"scale(1 1) rotate(0) translate(4 206)\">\n",
       "<title>%3</title>\n",
       "<polygon fill=\"white\" stroke=\"transparent\" points=\"-4,4 -4,-206 1831.69,-206 1831.69,4 -4,4\"/>\n",
       "<!-- 139780748642912 -->\n",
       "<g id=\"node1\" class=\"node\">\n",
       "<title>139780748642912</title>\n",
       "<polygon fill=\"none\" stroke=\"black\" points=\"1589.69,-109.5 1589.69,-145.5 1827.69,-145.5 1827.69,-109.5 1589.69,-109.5\"/>\n",
       "<text text-anchor=\"middle\" x=\"1602.19\" y=\"-123.8\" font-family=\"Times,serif\" font-size=\"14.00\">o</text>\n",
       "<polyline fill=\"none\" stroke=\"black\" points=\"1614.69,-109.5 1614.69,-145.5 \"/>\n",
       "<text text-anchor=\"middle\" x=\"1669.19\" y=\"-123.8\" font-family=\"Times,serif\" font-size=\"14.00\">value 0.7071</text>\n",
       "<polyline fill=\"none\" stroke=\"black\" points=\"1723.69,-109.5 1723.69,-145.5 \"/>\n",
       "<text text-anchor=\"middle\" x=\"1775.69\" y=\"-123.8\" font-family=\"Times,serif\" font-size=\"14.00\">grad 1.0000</text>\n",
       "</g>\n",
       "<!-- 139780748642912tanh -->\n",
       "<g id=\"node2\" class=\"node\">\n",
       "<title>139780748642912tanh</title>\n",
       "<ellipse fill=\"none\" stroke=\"black\" cx=\"1521.85\" cy=\"-127.5\" rx=\"31.7\" ry=\"18\"/>\n",
       "<text text-anchor=\"middle\" x=\"1521.85\" y=\"-123.8\" font-family=\"Times,serif\" font-size=\"14.00\">tanh</text>\n",
       "</g>\n",
       "<!-- 139780748642912tanh&#45;&gt;139780748642912 -->\n",
       "<g id=\"edge1\" class=\"edge\">\n",
       "<title>139780748642912tanh&#45;&gt;139780748642912</title>\n",
       "<path fill=\"none\" stroke=\"black\" d=\"M1553.79,-127.5C1561.41,-127.5 1570.05,-127.5 1579.26,-127.5\"/>\n",
       "<polygon fill=\"black\" stroke=\"black\" points=\"1579.46,-131 1589.46,-127.5 1579.46,-124 1579.46,-131\"/>\n",
       "</g>\n",
       "<!-- 139780749066352 -->\n",
       "<g id=\"node3\" class=\"node\">\n",
       "<title>139780749066352</title>\n",
       "<polygon fill=\"none\" stroke=\"black\" points=\"814.5,-137.5 814.5,-173.5 1053.5,-173.5 1053.5,-137.5 814.5,-137.5\"/>\n",
       "<text text-anchor=\"middle\" x=\"827.5\" y=\"-151.8\" font-family=\"Times,serif\" font-size=\"14.00\">b</text>\n",
       "<polyline fill=\"none\" stroke=\"black\" points=\"840.5,-137.5 840.5,-173.5 \"/>\n",
       "<text text-anchor=\"middle\" x=\"895\" y=\"-151.8\" font-family=\"Times,serif\" font-size=\"14.00\">value 6.8814</text>\n",
       "<polyline fill=\"none\" stroke=\"black\" points=\"949.5,-137.5 949.5,-173.5 \"/>\n",
       "<text text-anchor=\"middle\" x=\"1001.5\" y=\"-151.8\" font-family=\"Times,serif\" font-size=\"14.00\">grad 0.5000</text>\n",
       "</g>\n",
       "<!-- 139780749066544+ -->\n",
       "<g id=\"node12\" class=\"node\">\n",
       "<title>139780749066544+</title>\n",
       "<ellipse fill=\"none\" stroke=\"black\" cx=\"1152\" cy=\"-127.5\" rx=\"27\" ry=\"18\"/>\n",
       "<text text-anchor=\"middle\" x=\"1152\" y=\"-123.8\" font-family=\"Times,serif\" font-size=\"14.00\">+</text>\n",
       "</g>\n",
       "<!-- 139780749066352&#45;&gt;139780749066544+ -->\n",
       "<g id=\"edge14\" class=\"edge\">\n",
       "<title>139780749066352&#45;&gt;139780749066544+</title>\n",
       "<path fill=\"none\" stroke=\"black\" d=\"M1053.74,-140.11C1076.15,-137.2 1097.93,-134.38 1115.18,-132.14\"/>\n",
       "<polygon fill=\"black\" stroke=\"black\" points=\"1115.84,-135.59 1125.3,-130.83 1114.94,-128.65 1115.84,-135.59\"/>\n",
       "</g>\n",
       "<!-- 139780749066928 -->\n",
       "<g id=\"node4\" class=\"node\">\n",
       "<title>139780749066928</title>\n",
       "<polygon fill=\"none\" stroke=\"black\" points=\"779,-82.5 779,-118.5 1089,-118.5 1089,-82.5 779,-82.5\"/>\n",
       "<text text-anchor=\"middle\" x=\"825.5\" y=\"-96.8\" font-family=\"Times,serif\" font-size=\"14.00\">x1w1x2w2</text>\n",
       "<polyline fill=\"none\" stroke=\"black\" points=\"872,-82.5 872,-118.5 \"/>\n",
       "<text text-anchor=\"middle\" x=\"928.5\" y=\"-96.8\" font-family=\"Times,serif\" font-size=\"14.00\">value &#45;6.0000</text>\n",
       "<polyline fill=\"none\" stroke=\"black\" points=\"985,-82.5 985,-118.5 \"/>\n",
       "<text text-anchor=\"middle\" x=\"1037\" y=\"-96.8\" font-family=\"Times,serif\" font-size=\"14.00\">grad 0.5000</text>\n",
       "</g>\n",
       "<!-- 139780749066928&#45;&gt;139780749066544+ -->\n",
       "<g id=\"edge8\" class=\"edge\">\n",
       "<title>139780749066928&#45;&gt;139780749066544+</title>\n",
       "<path fill=\"none\" stroke=\"black\" d=\"M1079.08,-118.51C1092.19,-120.15 1104.51,-121.69 1115.11,-123.01\"/>\n",
       "<polygon fill=\"black\" stroke=\"black\" points=\"1114.76,-126.5 1125.12,-124.26 1115.63,-119.55 1114.76,-126.5\"/>\n",
       "</g>\n",
       "<!-- 139780749066928+ -->\n",
       "<g id=\"node5\" class=\"node\">\n",
       "<title>139780749066928+</title>\n",
       "<ellipse fill=\"none\" stroke=\"black\" cx=\"716\" cy=\"-100.5\" rx=\"27\" ry=\"18\"/>\n",
       "<text text-anchor=\"middle\" x=\"716\" y=\"-96.8\" font-family=\"Times,serif\" font-size=\"14.00\">+</text>\n",
       "</g>\n",
       "<!-- 139780749066928+&#45;&gt;139780749066928 -->\n",
       "<g id=\"edge2\" class=\"edge\">\n",
       "<title>139780749066928+&#45;&gt;139780749066928</title>\n",
       "<path fill=\"none\" stroke=\"black\" d=\"M743.05,-100.5C750.47,-100.5 759.13,-100.5 768.59,-100.5\"/>\n",
       "<polygon fill=\"black\" stroke=\"black\" points=\"768.73,-104 778.73,-100.5 768.73,-97 768.73,-104\"/>\n",
       "</g>\n",
       "<!-- 139780749070000 -->\n",
       "<g id=\"node6\" class=\"node\">\n",
       "<title>139780749070000</title>\n",
       "<polygon fill=\"none\" stroke=\"black\" points=\"0,-165.5 0,-201.5 255,-201.5 255,-165.5 0,-165.5\"/>\n",
       "<text text-anchor=\"middle\" x=\"19\" y=\"-179.8\" font-family=\"Times,serif\" font-size=\"14.00\">w1</text>\n",
       "<polyline fill=\"none\" stroke=\"black\" points=\"38,-165.5 38,-201.5 \"/>\n",
       "<text text-anchor=\"middle\" x=\"94.5\" y=\"-179.8\" font-family=\"Times,serif\" font-size=\"14.00\">value &#45;3.0000</text>\n",
       "<polyline fill=\"none\" stroke=\"black\" points=\"151,-165.5 151,-201.5 \"/>\n",
       "<text text-anchor=\"middle\" x=\"203\" y=\"-179.8\" font-family=\"Times,serif\" font-size=\"14.00\">grad 1.0000</text>\n",
       "</g>\n",
       "<!-- 139780749069040* -->\n",
       "<g id=\"node8\" class=\"node\">\n",
       "<title>139780749069040*</title>\n",
       "<ellipse fill=\"none\" stroke=\"black\" cx=\"318\" cy=\"-128.5\" rx=\"27\" ry=\"18\"/>\n",
       "<text text-anchor=\"middle\" x=\"318\" y=\"-124.8\" font-family=\"Times,serif\" font-size=\"14.00\">*</text>\n",
       "</g>\n",
       "<!-- 139780749070000&#45;&gt;139780749069040* -->\n",
       "<g id=\"edge12\" class=\"edge\">\n",
       "<title>139780749070000&#45;&gt;139780749069040*</title>\n",
       "<path fill=\"none\" stroke=\"black\" d=\"M223.72,-165.48C234.36,-162.79 244.97,-159.79 255,-156.5 265.71,-152.98 277.06,-148.19 287.08,-143.57\"/>\n",
       "<polygon fill=\"black\" stroke=\"black\" points=\"288.68,-146.69 296.21,-139.24 285.68,-140.36 288.68,-146.69\"/>\n",
       "</g>\n",
       "<!-- 139780749069040 -->\n",
       "<g id=\"node7\" class=\"node\">\n",
       "<title>139780749069040</title>\n",
       "<polygon fill=\"none\" stroke=\"black\" points=\"381,-110.5 381,-146.5 653,-146.5 653,-110.5 381,-110.5\"/>\n",
       "<text text-anchor=\"middle\" x=\"408.5\" y=\"-124.8\" font-family=\"Times,serif\" font-size=\"14.00\">x1w1</text>\n",
       "<polyline fill=\"none\" stroke=\"black\" points=\"436,-110.5 436,-146.5 \"/>\n",
       "<text text-anchor=\"middle\" x=\"492.5\" y=\"-124.8\" font-family=\"Times,serif\" font-size=\"14.00\">value &#45;6.0000</text>\n",
       "<polyline fill=\"none\" stroke=\"black\" points=\"549,-110.5 549,-146.5 \"/>\n",
       "<text text-anchor=\"middle\" x=\"601\" y=\"-124.8\" font-family=\"Times,serif\" font-size=\"14.00\">grad 0.5000</text>\n",
       "</g>\n",
       "<!-- 139780749069040&#45;&gt;139780749066928+ -->\n",
       "<g id=\"edge10\" class=\"edge\">\n",
       "<title>139780749069040&#45;&gt;139780749066928+</title>\n",
       "<path fill=\"none\" stroke=\"black\" d=\"M644.71,-110.49C657.24,-108.71 669.1,-107.02 679.39,-105.56\"/>\n",
       "<polygon fill=\"black\" stroke=\"black\" points=\"680.1,-109 689.51,-104.12 679.12,-102.07 680.1,-109\"/>\n",
       "</g>\n",
       "<!-- 139780749069040*&#45;&gt;139780749069040 -->\n",
       "<g id=\"edge3\" class=\"edge\">\n",
       "<title>139780749069040*&#45;&gt;139780749069040</title>\n",
       "<path fill=\"none\" stroke=\"black\" d=\"M345.16,-128.5C352.62,-128.5 361.31,-128.5 370.74,-128.5\"/>\n",
       "<polygon fill=\"black\" stroke=\"black\" points=\"370.83,-132 380.83,-128.5 370.83,-125 370.83,-132\"/>\n",
       "</g>\n",
       "<!-- 139780749067504 -->\n",
       "<g id=\"node9\" class=\"node\">\n",
       "<title>139780749067504</title>\n",
       "<polygon fill=\"none\" stroke=\"black\" points=\"383,-55.5 383,-91.5 651,-91.5 651,-55.5 383,-55.5\"/>\n",
       "<text text-anchor=\"middle\" x=\"410.5\" y=\"-69.8\" font-family=\"Times,serif\" font-size=\"14.00\">x2w2</text>\n",
       "<polyline fill=\"none\" stroke=\"black\" points=\"438,-55.5 438,-91.5 \"/>\n",
       "<text text-anchor=\"middle\" x=\"492.5\" y=\"-69.8\" font-family=\"Times,serif\" font-size=\"14.00\">value 0.0000</text>\n",
       "<polyline fill=\"none\" stroke=\"black\" points=\"547,-55.5 547,-91.5 \"/>\n",
       "<text text-anchor=\"middle\" x=\"599\" y=\"-69.8\" font-family=\"Times,serif\" font-size=\"14.00\">grad 0.5000</text>\n",
       "</g>\n",
       "<!-- 139780749067504&#45;&gt;139780749066928+ -->\n",
       "<g id=\"edge6\" class=\"edge\">\n",
       "<title>139780749067504&#45;&gt;139780749066928+</title>\n",
       "<path fill=\"none\" stroke=\"black\" d=\"M649.4,-91.51C660.16,-92.98 670.32,-94.38 679.29,-95.61\"/>\n",
       "<polygon fill=\"black\" stroke=\"black\" points=\"678.86,-99.08 689.24,-96.97 679.81,-92.14 678.86,-99.08\"/>\n",
       "</g>\n",
       "<!-- 139780749067504* -->\n",
       "<g id=\"node10\" class=\"node\">\n",
       "<title>139780749067504*</title>\n",
       "<ellipse fill=\"none\" stroke=\"black\" cx=\"318\" cy=\"-73.5\" rx=\"27\" ry=\"18\"/>\n",
       "<text text-anchor=\"middle\" x=\"318\" y=\"-69.8\" font-family=\"Times,serif\" font-size=\"14.00\">*</text>\n",
       "</g>\n",
       "<!-- 139780749067504*&#45;&gt;139780749067504 -->\n",
       "<g id=\"edge4\" class=\"edge\">\n",
       "<title>139780749067504*&#45;&gt;139780749067504</title>\n",
       "<path fill=\"none\" stroke=\"black\" d=\"M345.16,-73.5C353.17,-73.5 362.6,-73.5 372.86,-73.5\"/>\n",
       "<polygon fill=\"black\" stroke=\"black\" points=\"372.92,-77 382.92,-73.5 372.92,-70 372.92,-77\"/>\n",
       "</g>\n",
       "<!-- 139780749066544 -->\n",
       "<g id=\"node11\" class=\"node\">\n",
       "<title>139780749066544</title>\n",
       "<polygon fill=\"none\" stroke=\"black\" points=\"1215,-109.5 1215,-145.5 1454,-145.5 1454,-109.5 1215,-109.5\"/>\n",
       "<text text-anchor=\"middle\" x=\"1228\" y=\"-123.8\" font-family=\"Times,serif\" font-size=\"14.00\">n</text>\n",
       "<polyline fill=\"none\" stroke=\"black\" points=\"1241,-109.5 1241,-145.5 \"/>\n",
       "<text text-anchor=\"middle\" x=\"1295.5\" y=\"-123.8\" font-family=\"Times,serif\" font-size=\"14.00\">value 0.8814</text>\n",
       "<polyline fill=\"none\" stroke=\"black\" points=\"1350,-109.5 1350,-145.5 \"/>\n",
       "<text text-anchor=\"middle\" x=\"1402\" y=\"-123.8\" font-family=\"Times,serif\" font-size=\"14.00\">grad 0.5000</text>\n",
       "</g>\n",
       "<!-- 139780749066544&#45;&gt;139780748642912tanh -->\n",
       "<g id=\"edge9\" class=\"edge\">\n",
       "<title>139780749066544&#45;&gt;139780748642912tanh</title>\n",
       "<path fill=\"none\" stroke=\"black\" d=\"M1454.19,-127.5C1463.14,-127.5 1471.74,-127.5 1479.61,-127.5\"/>\n",
       "<polygon fill=\"black\" stroke=\"black\" points=\"1479.85,-131 1489.85,-127.5 1479.85,-124 1479.85,-131\"/>\n",
       "</g>\n",
       "<!-- 139780749066544+&#45;&gt;139780749066544 -->\n",
       "<g id=\"edge5\" class=\"edge\">\n",
       "<title>139780749066544+&#45;&gt;139780749066544</title>\n",
       "<path fill=\"none\" stroke=\"black\" d=\"M1179.25,-127.5C1186.64,-127.5 1195.22,-127.5 1204.47,-127.5\"/>\n",
       "<polygon fill=\"black\" stroke=\"black\" points=\"1204.74,-131 1214.74,-127.5 1204.74,-124 1204.74,-131\"/>\n",
       "</g>\n",
       "<!-- 139780749069616 -->\n",
       "<g id=\"node13\" class=\"node\">\n",
       "<title>139780749069616</title>\n",
       "<polygon fill=\"none\" stroke=\"black\" points=\"2,-110.5 2,-146.5 253,-146.5 253,-110.5 2,-110.5\"/>\n",
       "<text text-anchor=\"middle\" x=\"19\" y=\"-124.8\" font-family=\"Times,serif\" font-size=\"14.00\">x1</text>\n",
       "<polyline fill=\"none\" stroke=\"black\" points=\"36,-110.5 36,-146.5 \"/>\n",
       "<text text-anchor=\"middle\" x=\"90.5\" y=\"-124.8\" font-family=\"Times,serif\" font-size=\"14.00\">value 2.0000</text>\n",
       "<polyline fill=\"none\" stroke=\"black\" points=\"145,-110.5 145,-146.5 \"/>\n",
       "<text text-anchor=\"middle\" x=\"199\" y=\"-124.8\" font-family=\"Times,serif\" font-size=\"14.00\">grad &#45;1.5000</text>\n",
       "</g>\n",
       "<!-- 139780749069616&#45;&gt;139780749069040* -->\n",
       "<g id=\"edge13\" class=\"edge\">\n",
       "<title>139780749069616&#45;&gt;139780749069040*</title>\n",
       "<path fill=\"none\" stroke=\"black\" d=\"M253.18,-128.5C263.1,-128.5 272.51,-128.5 280.91,-128.5\"/>\n",
       "<polygon fill=\"black\" stroke=\"black\" points=\"280.98,-132 290.98,-128.5 280.98,-125 280.98,-132\"/>\n",
       "</g>\n",
       "<!-- 139780749068704 -->\n",
       "<g id=\"node14\" class=\"node\">\n",
       "<title>139780749068704</title>\n",
       "<polygon fill=\"none\" stroke=\"black\" points=\"2,-55.5 2,-91.5 253,-91.5 253,-55.5 2,-55.5\"/>\n",
       "<text text-anchor=\"middle\" x=\"21\" y=\"-69.8\" font-family=\"Times,serif\" font-size=\"14.00\">w2</text>\n",
       "<polyline fill=\"none\" stroke=\"black\" points=\"40,-55.5 40,-91.5 \"/>\n",
       "<text text-anchor=\"middle\" x=\"94.5\" y=\"-69.8\" font-family=\"Times,serif\" font-size=\"14.00\">value 1.0000</text>\n",
       "<polyline fill=\"none\" stroke=\"black\" points=\"149,-55.5 149,-91.5 \"/>\n",
       "<text text-anchor=\"middle\" x=\"201\" y=\"-69.8\" font-family=\"Times,serif\" font-size=\"14.00\">grad 0.0000</text>\n",
       "</g>\n",
       "<!-- 139780749068704&#45;&gt;139780749067504* -->\n",
       "<g id=\"edge7\" class=\"edge\">\n",
       "<title>139780749068704&#45;&gt;139780749067504*</title>\n",
       "<path fill=\"none\" stroke=\"black\" d=\"M253.18,-73.5C263.1,-73.5 272.51,-73.5 280.91,-73.5\"/>\n",
       "<polygon fill=\"black\" stroke=\"black\" points=\"280.98,-77 290.98,-73.5 280.98,-70 280.98,-77\"/>\n",
       "</g>\n",
       "<!-- 139780749066736 -->\n",
       "<g id=\"node15\" class=\"node\">\n",
       "<title>139780749066736</title>\n",
       "<polygon fill=\"none\" stroke=\"black\" points=\"4,-0.5 4,-36.5 251,-36.5 251,-0.5 4,-0.5\"/>\n",
       "<text text-anchor=\"middle\" x=\"21\" y=\"-14.8\" font-family=\"Times,serif\" font-size=\"14.00\">x2</text>\n",
       "<polyline fill=\"none\" stroke=\"black\" points=\"38,-0.5 38,-36.5 \"/>\n",
       "<text text-anchor=\"middle\" x=\"92.5\" y=\"-14.8\" font-family=\"Times,serif\" font-size=\"14.00\">value 0.0000</text>\n",
       "<polyline fill=\"none\" stroke=\"black\" points=\"147,-0.5 147,-36.5 \"/>\n",
       "<text text-anchor=\"middle\" x=\"199\" y=\"-14.8\" font-family=\"Times,serif\" font-size=\"14.00\">grad 0.5000</text>\n",
       "</g>\n",
       "<!-- 139780749066736&#45;&gt;139780749067504* -->\n",
       "<g id=\"edge11\" class=\"edge\">\n",
       "<title>139780749066736&#45;&gt;139780749067504*</title>\n",
       "<path fill=\"none\" stroke=\"black\" d=\"M219.93,-36.53C231.82,-39.52 243.77,-42.85 255,-46.5 265.47,-49.9 276.58,-54.43 286.47,-58.81\"/>\n",
       "<polygon fill=\"black\" stroke=\"black\" points=\"285.32,-62.13 295.87,-63.09 288.22,-55.76 285.32,-62.13\"/>\n",
       "</g>\n",
       "</g>\n",
       "</svg>\n"
      ],
      "text/plain": [
       "<graphviz.graphs.Digraph at 0x7f213dddb280>"
      ]
     },
     "execution_count": 112,
     "metadata": {},
     "output_type": "execute_result"
    }
   ],
   "source": [
    "draw_dot(o)"
   ]
  },
  {
   "cell_type": "code",
   "execution_count": 111,
   "metadata": {},
   "outputs": [],
   "source": [
    "o.backward()"
   ]
  },
  {
   "cell_type": "code",
   "execution_count": 102,
   "metadata": {},
   "outputs": [],
   "source": [
    "o.grad = 1\n",
    "o._backward()\n",
    "n._backward()\n",
    "x1w1x2w2._backward()\n",
    "b._backward()\n",
    "x1w1._backward()\n",
    "x2w2._backward()\n",
    "x1._backward()\n",
    "x2._backward()\n",
    "w1._backward()\n",
    "w2._backward()"
   ]
  },
  {
   "cell_type": "code",
   "execution_count": 104,
   "metadata": {},
   "outputs": [
    {
     "data": {
      "text/plain": [
       "[Node(value = 2.0),\n",
       " Node(value = -3.0),\n",
       " Node(value = -6.0),\n",
       " Node(value = 0.0),\n",
       " Node(value = 1.0),\n",
       " Node(value = 0.0),\n",
       " Node(value = -6.0),\n",
       " Node(value = 6.881373587019543),\n",
       " Node(value = 0.8813735870195432),\n",
       " Node(value = 0.7071067811865476)]"
      ]
     },
     "execution_count": 104,
     "metadata": {},
     "output_type": "execute_result"
    }
   ],
   "source": [
    "topo = []\n",
    "visited = set()\n",
    "def build_topo(v):\n",
    "    if v not in visited:\n",
    "        visited.add(v)\n",
    "        for child in v._children:\n",
    "            build_topo(child)\n",
    "        topo.append(v)\n",
    "    return topo\n",
    "build_topo(o)\n",
    "topo"
   ]
  },
  {
   "cell_type": "code",
   "execution_count": 75,
   "metadata": {},
   "outputs": [],
   "source": [
    "# o = tanh(n)\n",
    "# do/do = 1\n",
    "# do/dn = 1-tanh(n)**2\n",
    "o.grad = 1"
   ]
  },
  {
   "cell_type": "code",
   "execution_count": 76,
   "metadata": {},
   "outputs": [],
   "source": [
    "n.grad = 1-(o.value**2)"
   ]
  },
  {
   "cell_type": "code",
   "execution_count": 77,
   "metadata": {},
   "outputs": [],
   "source": [
    "b.grad = n.grad\n",
    "x1w1x2w2.grad = n.grad"
   ]
  },
  {
   "cell_type": "code",
   "execution_count": 78,
   "metadata": {},
   "outputs": [],
   "source": [
    "x1w1.grad = x1w1x2w2.grad\n",
    "x2w2.grad = x1w1x2w2.grad"
   ]
  },
  {
   "cell_type": "code",
   "execution_count": 79,
   "metadata": {},
   "outputs": [],
   "source": [
    "w1.grad = x1.value * x1w1.grad \n",
    "x1.grad = w1.value * x1w1.grad \n"
   ]
  },
  {
   "cell_type": "code",
   "execution_count": 80,
   "metadata": {},
   "outputs": [],
   "source": [
    "w2.grad = x2.value * x2w2.grad \n",
    "x2.grad = w2.value * x2w2.grad "
   ]
  },
  {
   "cell_type": "code",
   "execution_count": null,
   "metadata": {},
   "outputs": [],
   "source": []
  }
 ],
 "metadata": {
  "kernelspec": {
   "display_name": "Python 3",
   "language": "python",
   "name": "python3"
  },
  "language_info": {
   "codemirror_mode": {
    "name": "ipython",
    "version": 3
   },
   "file_extension": ".py",
   "mimetype": "text/x-python",
   "name": "python",
   "nbconvert_exporter": "python",
   "pygments_lexer": "ipython3",
   "version": "3.8.10"
  },
  "orig_nbformat": 4
 },
 "nbformat": 4,
 "nbformat_minor": 2
}
